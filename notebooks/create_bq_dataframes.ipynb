{
 "cells": [
  {
   "cell_type": "code",
   "execution_count": 1,
   "id": "e287a8db",
   "metadata": {},
   "outputs": [],
   "source": [
    "import pandas as pd\n",
    "from google.cloud.bigquery import Client,  LoadJobConfig, WriteDisposition, SchemaField"
   ]
  },
  {
   "cell_type": "code",
   "execution_count": 2,
   "id": "469a1985",
   "metadata": {},
   "outputs": [],
   "source": [
    "pd.set_option('display.max_columns', None)\n",
    "pd.set_option('display.max_rows', None)"
   ]
  },
  {
   "cell_type": "markdown",
   "id": "58db11b8",
   "metadata": {},
   "source": [
    "### Product Info Dataframe"
   ]
  },
  {
   "cell_type": "code",
   "execution_count": 3,
   "id": "2a20fca6",
   "metadata": {},
   "outputs": [],
   "source": [
    "query = \"\"\"\n",
    "--This query will process 162.36 MB when run.\n",
    "SELECT  \n",
    "    product_id,\n",
    "    ean_id,\n",
    "    label,\n",
    "    --activity,\n",
    "    web_family,\n",
    "    web_subfamily,\n",
    "    web_subsubfamily,\n",
    "    colors, \n",
    "    status,\n",
    "    eur_regular_price,\n",
    "    theme,\n",
    "    --gamme,\n",
    "    style,\n",
    "    product_type,\n",
    "    main_material,\n",
    "    product_material,\n",
    "    composition,\n",
    "    --nb_places,\n",
    "    --sofa_shape,\n",
    "    --is_convertible,\n",
    "    height,\n",
    "    width,\n",
    "    depth,\n",
    "    weight,\n",
    "FROM `mdm-data-prod.b_transform_products.last_products` \n",
    "WHERE is_marketplace_product = FALSE\n",
    "AND web_subfamily = 'CHAISES'\n",
    "\"\"\""
   ]
  },
  {
   "cell_type": "code",
   "execution_count": 4,
   "id": "617ac076",
   "metadata": {},
   "outputs": [
    {
     "name": "stderr",
     "output_type": "stream",
     "text": [
      "/home/sarnal/Workspace_linux/hackaton-adk/.venv/lib/python3.11/site-packages/google/cloud/bigquery/table.py:1957: UserWarning: BigQuery Storage module not found, fetch data with the REST endpoint instead.\n",
      "  warnings.warn(\n"
     ]
    },
    {
     "data": {
      "text/plain": [
       "(2701, 19)"
      ]
     },
     "execution_count": 4,
     "metadata": {},
     "output_type": "execute_result"
    }
   ],
   "source": [
    "client = Client()\n",
    "\n",
    "data_bq = client.query(query).to_dataframe()\n",
    "data_bq.shape"
   ]
  },
  {
   "cell_type": "code",
   "execution_count": 5,
   "id": "f462feae",
   "metadata": {},
   "outputs": [
    {
     "data": {
      "text/plain": [
       "(3534, 27)"
      ]
     },
     "execution_count": 5,
     "metadata": {},
     "output_type": "execute_result"
    }
   ],
   "source": [
    "data_chairs = pd.read_csv('../data/data_chaises.csv')\n",
    "data_chairs.shape"
   ]
  },
  {
   "cell_type": "code",
   "execution_count": 6,
   "id": "ec49f56b",
   "metadata": {},
   "outputs": [
    {
     "data": {
      "text/plain": [
       "(251, 21)"
      ]
     },
     "execution_count": 6,
     "metadata": {},
     "output_type": "execute_result"
    }
   ],
   "source": [
    "df = data_bq.merge(data_chairs[['product_id', 'img_url', 'img_gcs_uri']], on='product_id', how='inner')\n",
    "df.shape"
   ]
  },
  {
   "cell_type": "code",
   "execution_count": 7,
   "id": "95557e2a",
   "metadata": {},
   "outputs": [
    {
     "data": {
      "text/html": [
       "<div>\n",
       "<style scoped>\n",
       "    .dataframe tbody tr th:only-of-type {\n",
       "        vertical-align: middle;\n",
       "    }\n",
       "\n",
       "    .dataframe tbody tr th {\n",
       "        vertical-align: top;\n",
       "    }\n",
       "\n",
       "    .dataframe thead th {\n",
       "        text-align: right;\n",
       "    }\n",
       "</style>\n",
       "<table border=\"1\" class=\"dataframe\">\n",
       "  <thead>\n",
       "    <tr style=\"text-align: right;\">\n",
       "      <th></th>\n",
       "      <th>product_id</th>\n",
       "      <th>ean_id</th>\n",
       "      <th>label</th>\n",
       "      <th>web_family</th>\n",
       "      <th>web_subfamily</th>\n",
       "      <th>web_subsubfamily</th>\n",
       "      <th>colors</th>\n",
       "      <th>status</th>\n",
       "      <th>eur_regular_price</th>\n",
       "      <th>theme</th>\n",
       "      <th>style</th>\n",
       "      <th>product_type</th>\n",
       "      <th>main_material</th>\n",
       "      <th>product_material</th>\n",
       "      <th>composition</th>\n",
       "      <th>height</th>\n",
       "      <th>width</th>\n",
       "      <th>depth</th>\n",
       "      <th>weight</th>\n",
       "      <th>img_url</th>\n",
       "      <th>img_gcs_uri</th>\n",
       "    </tr>\n",
       "  </thead>\n",
       "  <tbody>\n",
       "    <tr>\n",
       "      <th>0</th>\n",
       "      <td>234579</td>\n",
       "      <td>3611872345792</td>\n",
       "      <td>CHS BUR MAURICETTE TERRA PD G</td>\n",
       "      <td>CHAISES</td>\n",
       "      <td>CHAISES</td>\n",
       "      <td>CHAISES</td>\n",
       "      <td>Terracotta</td>\n",
       "      <td>Reconduit</td>\n",
       "      <td>97.94</td>\n",
       "      <td>None</td>\n",
       "      <td>Scandicraft - Contemporain</td>\n",
       "      <td>Assise de bureau</td>\n",
       "      <td>Acier</td>\n",
       "      <td>Velours</td>\n",
       "      <td>Produit fini simple</td>\n",
       "      <td>85.0</td>\n",
       "      <td>58.0</td>\n",
       "      <td>58.0</td>\n",
       "      <td>7.4</td>\n",
       "      <td>https://res.cloudinary.com/dammdm/image/privat...</td>\n",
       "      <td>gs://mdm-data-preprod-poc-product-similarity-e...</td>\n",
       "    </tr>\n",
       "    <tr>\n",
       "      <th>1</th>\n",
       "      <td>238841</td>\n",
       "      <td>3611872388416</td>\n",
       "      <td>CHS CLYDE GRIS ANTHRACITE_1</td>\n",
       "      <td>CHAISES</td>\n",
       "      <td>CHAISES</td>\n",
       "      <td>CHAISES</td>\n",
       "      <td>Anthracite | Bois moyen</td>\n",
       "      <td>Reconduit</td>\n",
       "      <td>45.02</td>\n",
       "      <td>None</td>\n",
       "      <td>Epuré - Contemporain</td>\n",
       "      <td>Assise à dîner</td>\n",
       "      <td>Acier</td>\n",
       "      <td>Polyester</td>\n",
       "      <td>Produit fini simple</td>\n",
       "      <td>86.0</td>\n",
       "      <td>44.0</td>\n",
       "      <td>55.0</td>\n",
       "      <td>4.5</td>\n",
       "      <td>https://res.cloudinary.com/dammdm/image/privat...</td>\n",
       "      <td>gs://mdm-data-preprod-poc-product-similarity-e...</td>\n",
       "    </tr>\n",
       "  </tbody>\n",
       "</table>\n",
       "</div>"
      ],
      "text/plain": [
       "  product_id         ean_id                          label web_family  \\\n",
       "0     234579  3611872345792  CHS BUR MAURICETTE TERRA PD G    CHAISES   \n",
       "1     238841  3611872388416    CHS CLYDE GRIS ANTHRACITE_1    CHAISES   \n",
       "\n",
       "  web_subfamily web_subsubfamily                   colors     status  \\\n",
       "0       CHAISES          CHAISES               Terracotta  Reconduit   \n",
       "1       CHAISES          CHAISES  Anthracite | Bois moyen  Reconduit   \n",
       "\n",
       "   eur_regular_price theme                       style      product_type  \\\n",
       "0              97.94  None  Scandicraft - Contemporain  Assise de bureau   \n",
       "1              45.02  None        Epuré - Contemporain    Assise à dîner   \n",
       "\n",
       "  main_material product_material          composition  height  width  depth  \\\n",
       "0         Acier          Velours  Produit fini simple    85.0   58.0   58.0   \n",
       "1         Acier        Polyester  Produit fini simple    86.0   44.0   55.0   \n",
       "\n",
       "   weight                                            img_url  \\\n",
       "0     7.4  https://res.cloudinary.com/dammdm/image/privat...   \n",
       "1     4.5  https://res.cloudinary.com/dammdm/image/privat...   \n",
       "\n",
       "                                         img_gcs_uri  \n",
       "0  gs://mdm-data-preprod-poc-product-similarity-e...  \n",
       "1  gs://mdm-data-preprod-poc-product-similarity-e...  "
      ]
     },
     "execution_count": 7,
     "metadata": {},
     "output_type": "execute_result"
    }
   ],
   "source": [
    "df.head(2)"
   ]
  },
  {
   "cell_type": "code",
   "execution_count": 8,
   "id": "1e9655b1",
   "metadata": {},
   "outputs": [
    {
     "data": {
      "text/plain": [
       "web_family\n",
       "CHAISES    251\n",
       "Name: count, dtype: int64"
      ]
     },
     "execution_count": 8,
     "metadata": {},
     "output_type": "execute_result"
    }
   ],
   "source": [
    "df.web_family.value_counts(dropna=False)"
   ]
  },
  {
   "cell_type": "code",
   "execution_count": 9,
   "id": "972e45f5",
   "metadata": {},
   "outputs": [
    {
     "data": {
      "text/plain": [
       "status\n",
       "Reconduit        213\n",
       "Nouveauté         26\n",
       "Non reconduit     10\n",
       "None               2\n",
       "Name: count, dtype: int64"
      ]
     },
     "execution_count": 9,
     "metadata": {},
     "output_type": "execute_result"
    }
   ],
   "source": [
    "df.status.value_counts(dropna=False)"
   ]
  },
  {
   "cell_type": "code",
   "execution_count": 10,
   "id": "7dd86203",
   "metadata": {},
   "outputs": [
    {
     "data": {
      "text/plain": [
       "(239, 21)"
      ]
     },
     "execution_count": 10,
     "metadata": {},
     "output_type": "execute_result"
    }
   ],
   "source": [
    "df = df.loc[df.status.isin(['Reconduit', 'Nouveauté'])]\n",
    "df.shape"
   ]
  },
  {
   "cell_type": "code",
   "execution_count": 11,
   "id": "7f0b57c6",
   "metadata": {},
   "outputs": [
    {
     "data": {
      "text/plain": [
       "theme\n",
       "None    239\n",
       "Name: count, dtype: int64"
      ]
     },
     "execution_count": 11,
     "metadata": {},
     "output_type": "execute_result"
    }
   ],
   "source": [
    "df.theme.value_counts(dropna=False)"
   ]
  },
  {
   "cell_type": "code",
   "execution_count": 12,
   "id": "8aad2282",
   "metadata": {},
   "outputs": [
    {
     "data": {
      "text/plain": [
       "colors\n",
       "Beige                                                                                16\n",
       "Ecru                                                                                 10\n",
       "Noir                                                                                  9\n",
       "Marron                                                                                8\n",
       "Blanc                                                                                 8\n",
       "Kaki                                                                                  7\n",
       "Vert                                                                                  6\n",
       "Beige | Noir                                                                          5\n",
       "Bois clair                                                                            5\n",
       "Beige | Bois moyen                                                                    5\n",
       "Terracotta                                                                            4\n",
       "Kaki | Noir                                                                           4\n",
       "Anthracite                                                                            4\n",
       "Ocre                                                                                  4\n",
       "Jaune                                                                                 4\n",
       "Gris clair                                                                            4\n",
       "Blanc | Bois moyen                                                                    4\n",
       "Ecureuil                                                                              4\n",
       "Bois moyen | Ecru                                                                     4\n",
       "Bois moyen | Noir                                                                     3\n",
       "Doré | Noir                                                                           3\n",
       "Bleu                                                                                  3\n",
       "Noir | Ocre                                                                           3\n",
       "Bleu pétrole                                                                          3\n",
       "Gris chiné | Noir                                                                     3\n",
       "Bleu nuit                                                                             3\n",
       "Bois moyen | Caramel                                                                  2\n",
       "Blush                                                                                 2\n",
       "Bois moyen                                                                            2\n",
       "Doré | Ocre                                                                           2\n",
       "Camel | Noir                                                                          2\n",
       "Bois moyen | Marron                                                                   2\n",
       "Argent | Beige                                                                        2\n",
       "Gris anthracite                                                                       2\n",
       "Bois clair | Noir                                                                     2\n",
       "Bois clair | Ecru                                                                     2\n",
       "Doré | Terracotta                                                                     2\n",
       "Camel                                                                                 2\n",
       "Gris chiné                                                                            2\n",
       "Blanc | Doré                                                                          2\n",
       "Bois moyen | Olive                                                                    1\n",
       "Marron | Transparent                                                                  1\n",
       "Bois moyen | Gris nuage                                                               1\n",
       "Bois moyen | Vieux rose                                                               1\n",
       "Bois moyen | Forêt                                                                    1\n",
       "Bois moyen | Gris clair                                                               1\n",
       "Bois foncé                                                                            1\n",
       "Sapin                                                                                 1\n",
       "Ficelle                                                                               1\n",
       "Beige | Bois moyen | Marron                                                           1\n",
       "Anthracite | Bois moyen                                                               1\n",
       "Gris ardoise | Noir                                                                   1\n",
       "Bleu pétrole | Doré                                                                   1\n",
       "Brun                                                                                  1\n",
       "Bois moyen | Moutarde                                                                 1\n",
       "Bois clair | Brun                                                                     1\n",
       "Blanc | Noir | Ocre                                                                   1\n",
       "Bois clair | Gris anthracite                                                          1\n",
       "Tilleul                                                                               1\n",
       "Greige | Noir                                                                         1\n",
       "Ecureuil | Noir                                                                       1\n",
       "Beige | Bleu canard | Bleu marine | Bleu nuit | Bleu pétrole | Jaune | Terracotta     1\n",
       "Cognac | Noir                                                                         1\n",
       "Doré | Moutarde                                                                       1\n",
       "Bois clair | Bois foncé | Doré | Sapin                                                1\n",
       "Beige | Bois moyen | Gris clair                                                       1\n",
       "Noir | Terracotta                                                                     1\n",
       "Bois clair | Ivoire                                                                   1\n",
       "Laiton Doré | Taupe grisé                                                             1\n",
       "Taupe                                                                                 1\n",
       "Bois foncé | Marron                                                                   1\n",
       "Olive                                                                                 1\n",
       "Cappuccino                                                                            1\n",
       "Bois moyen | Gris                                                                     1\n",
       "Craie | Gris                                                                          1\n",
       "Gris clair chiné                                                                      1\n",
       "Bois moyen | Greige                                                                   1\n",
       "Bleu canard                                                                           1\n",
       "Argent | Kaki                                                                         1\n",
       "Bleu nuit | Noir                                                                      1\n",
       "Brun | Café | Café Latté                                                              1\n",
       "Noir | Sapin                                                                          1\n",
       "Bois moyen | Kaki                                                                     1\n",
       "Doré | Rose                                                                           1\n",
       "Bois clair | Doré | Terracotta                                                        1\n",
       "Bois clair | Bois foncé | Doré                                                        1\n",
       "Beige | Bois clair                                                                    1\n",
       "Sauge                                                                                 1\n",
       "Doré | Vert                                                                           1\n",
       "Gris                                                                                  1\n",
       "Bois moyen | Caramel | Noir                                                           1\n",
       "Aubergine                                                                             1\n",
       "Beige | Blanc                                                                         1\n",
       "Bois moyen | Vert d'Eau                                                               1\n",
       "Bois clair | Brique                                                                   1\n",
       "Gris clair | Noir                                                                     1\n",
       "Noisette                                                                              1\n",
       "Vieux rose                                                                            1\n",
       "Corail                                                                                1\n",
       "Beige | Bois foncé                                                                    1\n",
       "Bois moyen | Celadon bleu                                                             1\n",
       "Bois clair | Kaki                                                                     1\n",
       "Ecru | Noir                                                                           1\n",
       "Bleu | Bois moyen                                                                     1\n",
       "Bleu | Noir                                                                           1\n",
       "Beige chiné                                                                           1\n",
       "Marron | Noir                                                                         1\n",
       "Argent | Marron                                                                       1\n",
       "Beige | Bleu | Bois moyen                                                             1\n",
       "Bois moyen | Ecru | Noir                                                              1\n",
       "Blanc | Noir                                                                          1\n",
       "Bois moyen | Gris ardoise                                                             1\n",
       "Celadon vert                                                                          1\n",
       "Beige chiné | Noir                                                                    1\n",
       "Beige | Marron | Noir                                                                 1\n",
       "Name: count, dtype: int64"
      ]
     },
     "execution_count": 12,
     "metadata": {},
     "output_type": "execute_result"
    }
   ],
   "source": [
    "df.colors.value_counts(dropna=False)"
   ]
  },
  {
   "cell_type": "code",
   "execution_count": 13,
   "id": "52c4b8dc",
   "metadata": {},
   "outputs": [
    {
     "data": {
      "text/plain": [
       "style\n",
       "Chic - Classique              62\n",
       "Scandicraft - Contemporain    50\n",
       "Epuré - Contemporain          46\n",
       "Tradi - Classique             32\n",
       "Arty - Contemporain           22\n",
       "Campagne - Classique          11\n",
       "Neo indus - Autre              8\n",
       "Bohème - Ethnique              4\n",
       "Exo chic - Ethnique            3\n",
       "Craft voyage - Ethnique        1\n",
       "Name: count, dtype: int64"
      ]
     },
     "execution_count": 13,
     "metadata": {},
     "output_type": "execute_result"
    }
   ],
   "source": [
    "df['style'].value_counts(dropna=False)"
   ]
  },
  {
   "cell_type": "code",
   "execution_count": 14,
   "id": "b81549f4",
   "metadata": {},
   "outputs": [
    {
     "data": {
      "text/plain": [
       "product_type\n",
       "Assise à dîner      220\n",
       "Assise de bureau     19\n",
       "Name: count, dtype: int64"
      ]
     },
     "execution_count": 14,
     "metadata": {},
     "output_type": "execute_result"
    }
   ],
   "source": [
    "df.product_type.value_counts(dropna=False)"
   ]
  },
  {
   "cell_type": "code",
   "execution_count": 15,
   "id": "f053b815",
   "metadata": {},
   "outputs": [
    {
     "data": {
      "text/plain": [
       "composition\n",
       "Produit fini simple      232\n",
       "Produit fini assemblé      7\n",
       "Name: count, dtype: int64"
      ]
     },
     "execution_count": 15,
     "metadata": {},
     "output_type": "execute_result"
    }
   ],
   "source": [
    "df['composition'].value_counts(dropna=False)"
   ]
  },
  {
   "cell_type": "code",
   "execution_count": 16,
   "id": "7f4e6f9c",
   "metadata": {},
   "outputs": [
    {
     "data": {
      "text/plain": [
       "product_material\n",
       "Polyester                   91\n",
       "Velours                     72\n",
       "None                        24\n",
       "Rotin                       17\n",
       "Suédine / Textile enduit    17\n",
       "Lin                         13\n",
       "Cuir                         5\n",
       "Name: count, dtype: int64"
      ]
     },
     "execution_count": 16,
     "metadata": {},
     "output_type": "execute_result"
    }
   ],
   "source": [
    "df.product_material.value_counts(dropna=False)"
   ]
  },
  {
   "cell_type": "code",
   "execution_count": 17,
   "id": "6f4370c0",
   "metadata": {},
   "outputs": [
    {
     "data": {
      "text/plain": [
       "main_material\n",
       "Bois                  15\n",
       "PP - Polypropylène     8\n",
       "Acier                  1\n",
       "Name: count, dtype: int64"
      ]
     },
     "execution_count": 17,
     "metadata": {},
     "output_type": "execute_result"
    }
   ],
   "source": [
    "df.loc[df.product_material.isna()].main_material.value_counts(dropna=False)"
   ]
  },
  {
   "cell_type": "code",
   "execution_count": 18,
   "id": "7bf3d1ed",
   "metadata": {},
   "outputs": [],
   "source": [
    "df = df.rename(columns={'web_subsubfamily': 'category'})"
   ]
  },
  {
   "cell_type": "code",
   "execution_count": 19,
   "id": "37c187c3",
   "metadata": {},
   "outputs": [
    {
     "data": {
      "text/plain": [
       "(239, 16)"
      ]
     },
     "execution_count": 19,
     "metadata": {},
     "output_type": "execute_result"
    }
   ],
   "source": [
    "df = df.drop(columns=[\n",
    "    'web_family',  # not necessary for chairs only\n",
    "    'web_subfamily',  # not necessary for chairs only\n",
    "    'status',  # already pre-sorted\n",
    "    'theme',  # empty\n",
    "    'composition'  # not necessary for chairs only\n",
    "    ])\n",
    "df.shape"
   ]
  },
  {
   "cell_type": "code",
   "execution_count": 20,
   "id": "caeda735",
   "metadata": {},
   "outputs": [
    {
     "data": {
      "text/plain": [
       "product_id            0\n",
       "ean_id                0\n",
       "label                 0\n",
       "category              0\n",
       "colors                0\n",
       "eur_regular_price     0\n",
       "style                 0\n",
       "product_type          0\n",
       "main_material         0\n",
       "product_material     24\n",
       "height                0\n",
       "width                 0\n",
       "depth                 0\n",
       "weight                0\n",
       "img_url               0\n",
       "img_gcs_uri           0\n",
       "dtype: int64"
      ]
     },
     "execution_count": 20,
     "metadata": {},
     "output_type": "execute_result"
    }
   ],
   "source": [
    "df.isna().sum()"
   ]
  },
  {
   "cell_type": "code",
   "execution_count": 21,
   "id": "f5ed2a04",
   "metadata": {},
   "outputs": [],
   "source": [
    "table_schema = [\n",
    "    SchemaField(\"product_id\", \"STRING\", mode=\"NULLABLE\", description=\"Product identifier\"),\n",
    "    SchemaField(\"ean_id\", \"STRING\", mode=\"NULLABLE\", description=\"EAN of the product\"),\n",
    "    SchemaField(\"label\", \"STRING\", mode=\"NULLABLE\", description=\"Product name\"),\n",
    "    SchemaField(\"category\", \"STRING\", mode=\"NULLABLE\", description=\"Product category (ex: CHAISES)\"),\n",
    "    SchemaField(\"colors\", \"STRING\", mode=\"NULLABLE\", description=\"Product colors, separated by '|'\"),\n",
    "    SchemaField(\"eur_regular_price\", \"FLOAT\", mode=\"NULLABLE\", description=\"Current price of the product in eur without discount\"),\n",
    "    SchemaField(\"style\", \"STRING\", mode=\"NULLABLE\", description=\"Product styles separated by '|'\"),\n",
    "    SchemaField(\"product_type\", \"STRING\", mode=\"NULLABLE\", description=\"Type of product used by purchase department (ex: fauteuil à diner)\"),\n",
    "    SchemaField(\"main_material\", \"STRING\", mode=\"NULLABLE\", description=\"Product main material\"),\n",
    "    SchemaField(\"product_material\", \"STRING\", mode=\"NULLABLE\", description=\"Product material\"),\n",
    "    SchemaField(\"height\", \"FLOAT\", mode=\"NULLABLE\", description=\"Product height\"),\n",
    "    SchemaField(\"width\", \"FLOAT\", mode=\"NULLABLE\", description=\"Product width\"),\n",
    "    SchemaField(\"depth\", \"FLOAT\", mode=\"NULLABLE\", description=\"Product depth\"),\n",
    "    SchemaField(\"weight\", \"FLOAT\", mode=\"NULLABLE\", description=\"Product weight in grams\"),\n",
    "    SchemaField(\"img_url\", \"STRING\", mode=\"NULLABLE\", description=\"Image URL of the product\"),\n",
    "    SchemaField(\"img_gcs_uri\", \"STRING\", mode=\"NULLABLE\", description=\"Image GCS URI of the product\"),\n",
    "]\n"
   ]
  },
  {
   "cell_type": "code",
   "execution_count": 22,
   "id": "6178a64b",
   "metadata": {},
   "outputs": [
    {
     "name": "stderr",
     "output_type": "stream",
     "text": [
      "/home/sarnal/Workspace_linux/hackaton-adk/.venv/lib/python3.11/site-packages/google/cloud/bigquery/_pandas_helpers.py:489: FutureWarning: Loading pandas DataFrame into BigQuery will require pandas-gbq package version 0.26.1 or greater in the future. Tried to import pandas-gbq and got: No module named 'pandas_gbq'\n",
      "  warnings.warn(\n"
     ]
    },
    {
     "data": {
      "text/plain": [
       "LoadJob<project=data-sandbox-410808, location=EU, id=91fdf11e-e22f-4deb-8cd7-1b12f17993fb>"
      ]
     },
     "execution_count": 22,
     "metadata": {},
     "output_type": "execute_result"
    }
   ],
   "source": [
    "client = Client(project='data-sandbox-410808')\n",
    "dataset_id = 'datascience_playground'\n",
    "table_name = f'extract_chairs_adk'\n",
    "\n",
    "table_ref = client.dataset(dataset_id).table(table_name)\n",
    "\n",
    "job_config = LoadJobConfig()\n",
    "job_config.write_disposition = WriteDisposition.WRITE_TRUNCATE\n",
    "job_config.schema = table_schema\n",
    "\n",
    "job = client.load_table_from_dataframe(df, table_ref, job_config=job_config)\n",
    "job.result()"
   ]
  },
  {
   "cell_type": "markdown",
   "id": "b3a6f312",
   "metadata": {},
   "source": [
    "### Verbatims Dataframe"
   ]
  },
  {
   "cell_type": "code",
   "execution_count": 42,
   "id": "16e48736",
   "metadata": {},
   "outputs": [
    {
     "data": {
      "text/plain": [
       "(6150, 44)"
      ]
     },
     "execution_count": 42,
     "metadata": {},
     "output_type": "execute_result"
    }
   ],
   "source": [
    "df_verbatims = pd.read_excel('../data/202505 semantique produit mai25.xlsx', sheet_name='résultats')\n",
    "df_verbatims.shape"
   ]
  },
  {
   "cell_type": "code",
   "execution_count": 43,
   "id": "d1ce668b",
   "metadata": {},
   "outputs": [
    {
     "data": {
      "text/plain": [
       "Index(['Product ID', 'Saison', 'Statut', 'Libellé', 'Activité', 'Famille',\n",
       "       'Sous-famille', 'Sous-sous-famille', 'ID famille', 'ID sous-famille',\n",
       "       'ID sous-sous-famille', 'Famille web', 'Sous-famille web',\n",
       "       'Sous-sous-famille web', 'Gamme', 'Catégorie de prix',\n",
       "       'Fournisseur principal', 'Nombre d'avis', 'VA HT', 'Quantités vendues',\n",
       "       'Prix moyen', 'Note globale moyenne', 'Note qualité moyenne',\n",
       "       'Engagement', 'Nb avis - Problème de livraison ou de service client',\n",
       "       'Nb avis - Prix trop élevé',\n",
       "       'Nb avis - Produit arrivé endommagé ou incomplet',\n",
       "       'Nb avis - Problème de qualité', 'Nb avis - Problème de sécurité',\n",
       "       'Nb avis - Autre', 'Nb avis - Pas de catégorie',\n",
       "       'Pourcentage - problème de livraison ou de service client',\n",
       "       'Pourcentage - prix trop élevé',\n",
       "       'Pourcentage - produit arrivé endommagé ou incomplet',\n",
       "       'Pourcentage - problème de qualité',\n",
       "       'Pourcentage - problème de sécurité', 'Pourcentage - Autre',\n",
       "       'Pourcentage - pas de catégorie', 'Pourcentage - total',\n",
       "       'Avis traduits - au global', 'Avis traduits - pb de qualité ',\n",
       "       'Avis traduits - pb de sécurité ', 'Avis traduits - Autre',\n",
       "       'Synthèse globale'],\n",
       "      dtype='object')"
      ]
     },
     "execution_count": 43,
     "metadata": {},
     "output_type": "execute_result"
    }
   ],
   "source": [
    "df_verbatims.columns"
   ]
  },
  {
   "cell_type": "code",
   "execution_count": 44,
   "id": "bafc3841",
   "metadata": {},
   "outputs": [
    {
     "data": {
      "text/plain": [
       "(6150, 5)"
      ]
     },
     "execution_count": 44,
     "metadata": {},
     "output_type": "execute_result"
    }
   ],
   "source": [
    "df_verbatims = df_verbatims[['Product ID', 'Note globale moyenne', 'Note qualité moyenne', 'Avis traduits - au global', 'Synthèse globale']].rename(\n",
    "    columns={\n",
    "        'Product ID': 'product_id',\n",
    "        'Note globale moyenne': 'global_rating',\n",
    "        'Note qualité moyenne': 'quality_rating',\n",
    "        'Avis traduits - au global': 'verbatims',\n",
    "        'Synthèse globale': 'verbatim_synthesis'\n",
    "    }\n",
    ")\n",
    "\n",
    "df_verbatims.product_id = df_verbatims.product_id.astype(str)\n",
    "df_verbatims.shape"
   ]
  },
  {
   "cell_type": "code",
   "execution_count": 45,
   "id": "fd60c1e7",
   "metadata": {},
   "outputs": [
    {
     "data": {
      "text/plain": [
       "(181, 5)"
      ]
     },
     "execution_count": 45,
     "metadata": {},
     "output_type": "execute_result"
    }
   ],
   "source": [
    "df = df[['product_id']].merge(\n",
    "    df_verbatims, on='product_id', how='inner'\n",
    ")\n",
    "df.shape"
   ]
  },
  {
   "cell_type": "code",
   "execution_count": 46,
   "id": "70d890e6",
   "metadata": {},
   "outputs": [
    {
     "data": {
      "text/plain": [
       "product_id            0\n",
       "global_rating         0\n",
       "quality_rating        0\n",
       "verbatims             0\n",
       "verbatim_synthesis    0\n",
       "dtype: int64"
      ]
     },
     "execution_count": 46,
     "metadata": {},
     "output_type": "execute_result"
    }
   ],
   "source": [
    "df.isna().sum()"
   ]
  },
  {
   "cell_type": "code",
   "execution_count": 47,
   "id": "56f96e86",
   "metadata": {},
   "outputs": [
    {
     "data": {
      "text/html": [
       "<div>\n",
       "<style scoped>\n",
       "    .dataframe tbody tr th:only-of-type {\n",
       "        vertical-align: middle;\n",
       "    }\n",
       "\n",
       "    .dataframe tbody tr th {\n",
       "        vertical-align: top;\n",
       "    }\n",
       "\n",
       "    .dataframe thead th {\n",
       "        text-align: right;\n",
       "    }\n",
       "</style>\n",
       "<table border=\"1\" class=\"dataframe\">\n",
       "  <thead>\n",
       "    <tr style=\"text-align: right;\">\n",
       "      <th></th>\n",
       "      <th>product_id</th>\n",
       "      <th>global_rating</th>\n",
       "      <th>quality_rating</th>\n",
       "      <th>verbatims</th>\n",
       "      <th>verbatim_synthesis</th>\n",
       "    </tr>\n",
       "  </thead>\n",
       "  <tbody>\n",
       "    <tr>\n",
       "      <th>0</th>\n",
       "      <td>234579</td>\n",
       "      <td>3.50</td>\n",
       "      <td>3.75</td>\n",
       "      <td>Very nice visual impact\\nseat not deep enough,...</td>\n",
       "      <td>- Summary: The product has a nice visual impac...</td>\n",
       "    </tr>\n",
       "    <tr>\n",
       "      <th>1</th>\n",
       "      <td>238841</td>\n",
       "      <td>4.56</td>\n",
       "      <td>4.28</td>\n",
       "      <td>Very satisfied\\ncomfortable and efficient\\nGOO...</td>\n",
       "      <td>- Summary: Customers generally found the chair...</td>\n",
       "    </tr>\n",
       "  </tbody>\n",
       "</table>\n",
       "</div>"
      ],
      "text/plain": [
       "  product_id  global_rating  quality_rating  \\\n",
       "0     234579           3.50            3.75   \n",
       "1     238841           4.56            4.28   \n",
       "\n",
       "                                           verbatims  \\\n",
       "0  Very nice visual impact\\nseat not deep enough,...   \n",
       "1  Very satisfied\\ncomfortable and efficient\\nGOO...   \n",
       "\n",
       "                                  verbatim_synthesis  \n",
       "0  - Summary: The product has a nice visual impac...  \n",
       "1  - Summary: Customers generally found the chair...  "
      ]
     },
     "execution_count": 47,
     "metadata": {},
     "output_type": "execute_result"
    }
   ],
   "source": [
    "df.head(2)"
   ]
  },
  {
   "cell_type": "code",
   "execution_count": 48,
   "id": "0c36234c",
   "metadata": {},
   "outputs": [],
   "source": [
    "table_schema_reviews = [\n",
    "    SchemaField(\"product_id\", \"STRING\", mode=\"NULLABLE\", description=\"Product identifier\"),\n",
    "    SchemaField(\"global_rating\", \"FLOAT\", mode=\"NULLABLE\", description=\"Average global rating of the product\"),\n",
    "    SchemaField(\"quality_rating\", \"FLOAT\", mode=\"NULLABLE\", description=\"Average quality rating of the product\"),\n",
    "    SchemaField(\"verbatims\", \"STRING\", mode=\"NULLABLE\", description=\"Product verbatims separated by '\\n'\"),\n",
    "    SchemaField(\"verbatim_synthesis\", \"STRING\", mode=\"NULLABLE\", description=\"General summary of the product reviews, main positive and negative points\"),\n",
    "]\n"
   ]
  },
  {
   "cell_type": "code",
   "execution_count": 49,
   "id": "17e0d96e",
   "metadata": {},
   "outputs": [
    {
     "name": "stderr",
     "output_type": "stream",
     "text": [
      "/home/sarnal/Workspace_linux/hackaton-adk/.venv/lib/python3.11/site-packages/google/cloud/bigquery/_pandas_helpers.py:489: FutureWarning: Loading pandas DataFrame into BigQuery will require pandas-gbq package version 0.26.1 or greater in the future. Tried to import pandas-gbq and got: No module named 'pandas_gbq'\n",
      "  warnings.warn(\n"
     ]
    },
    {
     "data": {
      "text/plain": [
       "LoadJob<project=data-sandbox-410808, location=EU, id=f881bca4-87f8-4994-91c3-86038ef8e595>"
      ]
     },
     "execution_count": 49,
     "metadata": {},
     "output_type": "execute_result"
    }
   ],
   "source": [
    "client = Client(project='data-sandbox-410808')\n",
    "dataset_id = 'datascience_playground'\n",
    "table_name = f'extract_chairs_reviews_adk'\n",
    "\n",
    "table_ref = client.dataset(dataset_id).table(table_name)\n",
    "\n",
    "job_config = LoadJobConfig()\n",
    "job_config.write_disposition = WriteDisposition.WRITE_TRUNCATE\n",
    "job_config.schema = table_schema_reviews\n",
    "\n",
    "\n",
    "job = client.load_table_from_dataframe(df, table_ref, job_config=job_config)\n",
    "job.result()"
   ]
  },
  {
   "cell_type": "code",
   "execution_count": null,
   "id": "d32b18f6",
   "metadata": {},
   "outputs": [],
   "source": []
  }
 ],
 "metadata": {
  "kernelspec": {
   "display_name": ".venv",
   "language": "python",
   "name": "python3"
  },
  "language_info": {
   "codemirror_mode": {
    "name": "ipython",
    "version": 3
   },
   "file_extension": ".py",
   "mimetype": "text/x-python",
   "name": "python",
   "nbconvert_exporter": "python",
   "pygments_lexer": "ipython3",
   "version": "3.11.2"
  }
 },
 "nbformat": 4,
 "nbformat_minor": 5
}
