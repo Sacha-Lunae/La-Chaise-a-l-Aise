{
 "cells": [
  {
   "cell_type": "code",
   "execution_count": null,
   "id": "0fc4112e",
   "metadata": {},
   "outputs": [],
   "source": [
    "from __future__ import annotations\n",
    "import pandas as pd\n",
    "import requests\n",
    "import json\n",
    "from google.auth import default\n",
    "from google.auth.transport.requests import Request"
   ]
  },
  {
   "cell_type": "code",
   "execution_count": null,
   "id": "89f498cb",
   "metadata": {},
   "outputs": [],
   "source": [
    "input_image_link = \"gs://mdm-data-preprod-poc-product-similarity-euw1/images/TestChatBot/test_chaise_jaune.jpg\""
   ]
  },
  {
   "cell_type": "code",
   "execution_count": null,
   "id": "432162f8",
   "metadata": {},
   "outputs": [],
   "source": [
    "def get_json(link):\n",
    "    return{\n",
    "    \"requests\": [\n",
    "      {\n",
    "        \"image\": {\n",
    "          \"source\": {\n",
    "            \"gcsImageUri\": link\n",
    "          }\n",
    "        },\n",
    "        \"features\": [\n",
    "          {\n",
    "            \"type\": \"PRODUCT_SEARCH\",\n",
    "            \"maxResults\": 10\n",
    "          }\n",
    "        ],\n",
    "        \"imageContext\": {\n",
    "          \"productSearchParams\": {\n",
    "            \"productSet\": \"projects/mdm-data-prod/locations/europe-west1/productSets/product_set2\",\n",
    "            \"productCategories\": [\n",
    "              \"homegoods-v2\"\n",
    "            ],\n",
    "            \"filter\": \"\"\n",
    "          }\n",
    "        }\n",
    "      }\n",
    "    ]\n",
    "  }"
   ]
  },
  {
   "cell_type": "code",
   "execution_count": null,
   "id": "35f0f9ac",
   "metadata": {},
   "outputs": [],
   "source": [
    "get_json(input_image_link)"
   ]
  },
  {
   "cell_type": "code",
   "execution_count": null,
   "id": "fe47cbe1",
   "metadata": {},
   "outputs": [],
   "source": [
    "def get_mkp_products(link):\n",
    "\n",
    "    url = \"https://vision.googleapis.com/v1/images:annotate\"\n",
    "\n",
    "    # start_time = time.time()\n",
    "\n",
    "    # print(\"Récupération des credentials...\")\n",
    "    credentials, project = default()\n",
    "    # print(f\"Credentials obtenus en {time.time() - start_time:.2f}s\")\n",
    "\n",
    "    # print(\"Refresh du token...\")\n",
    "    credentials.refresh(Request())\n",
    "    access_token = credentials.token\n",
    "    # print(f\"Token refreshé en {time.time() - start_time:.2f}s\")\n",
    "\n",
    "    # Headers\n",
    "    headers = {\n",
    "        \"Authorization\": f\"Bearer {access_token}\",\n",
    "        \"x-goog-user-project\": \"mdm-data-prod\",\n",
    "        \"Content-Type\": \"application/json; charset=utf-8\"\n",
    "    }\n",
    "\n",
    "    data = get_json(link)\n",
    "    response = requests.post(url, headers=headers, json=data, timeout=(5, 30))\n",
    "\n",
    "    # print(f\"Réponse reçue en {time.time() - start_time:.2f}s\")\n",
    "    # print(f\"Status Code: {response.status_code}\")\n",
    "    # print(f\"Response: {response.text}\")\n",
    "\n",
    "    return response.text"
   ]
  },
  {
   "cell_type": "code",
   "execution_count": null,
   "id": "19b5c85c",
   "metadata": {},
   "outputs": [],
   "source": [
    "response_text = get_mkp_products(input_image_link)"
   ]
  },
  {
   "cell_type": "code",
   "execution_count": null,
   "id": "c89b55ef",
   "metadata": {},
   "outputs": [],
   "source": [
    "def quick_parse(response_text):\n",
    "    data = json.loads(response_text)\n",
    "    \n",
    "    results_data = []\n",
    "    ranking = 1\n",
    "    \n",
    "    for response in data.get('responses', []):\n",
    "        for result in response.get('productSearchResults', {}).get('results', []):\n",
    "            if 'product' in result and 'displayName' in result['product']:\n",
    "                results_data.append({\n",
    "                    'product': result['product']['displayName'],\n",
    "                    'ranking': ranking,\n",
    "                    'similarity_score': result.get('score', 0.0)\n",
    "                })\n",
    "                ranking += 1\n",
    "    \n",
    "    return pd.DataFrame(results_data)"
   ]
  },
  {
   "cell_type": "code",
   "execution_count": null,
   "id": "a5bcdedc",
   "metadata": {},
   "outputs": [],
   "source": [
    "df_output = quick_parse(response_text)"
   ]
  },
  {
   "cell_type": "code",
   "execution_count": null,
   "id": "39e0233f",
   "metadata": {},
   "outputs": [],
   "source": [
    "list(df_output[\"product\"])"
   ]
  },
  {
   "cell_type": "code",
   "execution_count": null,
   "id": "984e8b1f",
   "metadata": {},
   "outputs": [],
   "source": []
  },
  {
   "cell_type": "code",
   "execution_count": null,
   "id": "67b505b5",
   "metadata": {},
   "outputs": [],
   "source": []
  },
  {
   "cell_type": "code",
   "execution_count": null,
   "id": "01d8877f",
   "metadata": {},
   "outputs": [],
   "source": []
  }
 ],
 "metadata": {
  "kernelspec": {
   "display_name": "Python 3",
   "language": "python",
   "name": "python3"
  },
  "language_info": {
   "codemirror_mode": {
    "name": "ipython",
    "version": 3
   },
   "file_extension": ".py",
   "mimetype": "text/x-python",
   "name": "python",
   "nbconvert_exporter": "python",
   "pygments_lexer": "ipython3",
   "version": "3.11.4"
  }
 },
 "nbformat": 4,
 "nbformat_minor": 5
}
